{
 "cells": [
  {
   "cell_type": "code",
   "execution_count": 1,
   "metadata": {},
   "source": [
    "#!fsharp\n",
    "[<Measure>] type minute\n",
    "[<Measure>] type hour\n",
    "[<Measure>] type day\n",
    "[<Measure>] type person\n",
    "[<Measure>] type vaccination\n",
    "\n",
    "let minPerHour = 60.0<minute/hour>\n",
    "let hoursPerDay = 16.0<hour/day>\n",
    "let minPerDay = minPerHour * hoursPerDay\n",
    "\n",
    "let adminTime = 10.0<minute/vaccination>\n",
    "let adminNumber = 2.0<vaccination/person>\n",
    "let totalAdminTime = adminTime * adminNumber\n",
    "\n",
    "let usPopulation = 328_200_000.0<person>\n",
    "let herdImmunity = 0.7 * usPopulation\n",
    "\n",
    "let daysToHerdImmunity = herdImmunity * totalAdminTime / minPerDay\n",
    "\n",
    "daysToHerdImmunity"
   ],
   "outputs": [
    {
     "output_type": "execute_result",
     "data": {
      "text/html": "<div class=\"dni-plaintext\">4786250</div>"
     },
     "execution_count": 1,
     "metadata": {}
    }
   ]
  },
  {
   "cell_type": "code",
   "execution_count": 1,
   "metadata": {},
   "source": [
    "#!fsharp\n",
    "daysToHerdImmunity / 10_000.0<person>"
   ],
   "outputs": [
    {
     "output_type": "execute_result",
     "data": {
      "text/html": "<div class=\"dni-plaintext\">478.625</div>"
     },
     "execution_count": 1,
     "metadata": {}
    }
   ]
  }
 ],
 "metadata": {
  "kernelspec": {
   "display_name": ".NET (C#)",
   "language": "C#",
   "name": ".net-csharp"
  },
  "language_info": {
   "file_extension": ".cs",
   "mimetype": "text/x-csharp",
   "name": "C#",
   "pygments_lexer": "csharp",
   "version": "8.0"
  }
 },
 "nbformat": 4,
 "nbformat_minor": 4
}