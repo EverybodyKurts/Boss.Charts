{
 "cells": [
  {
   "cell_type": "code",
   "execution_count": 1,
   "metadata": {},
   "source": [
    "#!fsharp\n",
    "#r \"nuget: EPPlus\"\n",
    "#r \"nuget: NewtonSoft.Json\"\n",
    "\n",
    "open System.IO\n",
    "open System.Data\n",
    "open OfficeOpenXml\n",
    "open Newtonsoft.Json\n",
    "\n",
    "let file = new FileInfo(\"cockpit_upload.xlsx\")\n",
    "\n",
    "// file.Exists\n",
    "let excel (fileInfo: FileInfo) =\n",
    "    let package = new ExcelPackage(fileInfo)\n",
    "\n",
    "    let dt = package.Workbook.Worksheets.[\"Sheet1\"].Tables.[\"CockpitUploads\"].ToDataTable(fun dt ->\n",
    "        dt.FirstRowIsColumnNames <- true\n",
    "    )\n",
    "\n",
    "    let columnNames =\n",
    "        [ for dataColumn in dt.Columns ->\n",
    "            dataColumn.ColumnName ] |> List.toSeq\n",
    "\n",
    "    [ for row in dt.Rows ->\n",
    "        let items = Array.toSeq row.ItemArray |> Seq.map string\n",
    "        Seq.zip columnNames items ]\n",
    "\n",
    "type CockpitUploadDataTable =\n",
    "    {| RowError: string |}\n",
    "\n",
    "let test (fileInfo: FileInfo) =\n",
    "    let package = new ExcelPackage(fileInfo)\n",
    "    let dt = package.Workbook.Worksheets.[\"Sheet1\"].Tables.[\"CockpitUploads\"].ToDataTable()\n",
    "    dt.Rows.SerializeToJson().Value\n",
    "\n",
    "let unparsedJson = test file\n",
    "\n",
    "JsonConvert.DeserializeObject<list<CockpitUploadDataTable>>(unparsedJson)\n",
    "// unparsedJson\n",
    "\n",
    "\n",
    "\n",
    ""
   ],
   "outputs": [
    {
     "output_type": "error",
     "ename": "Error",
     "evalue": "unknown (1,1)-(1,1) interactive error type '<>f__AnonymousType1289827126`1' not found in assembly '<emitted>'. A possible cause may be a version incompatibility. You may need to explicitly reference the correct version of this assembly to allow all referenced components to use the correct version.",
     "traceback": []
    }
   ]
  }
 ],
 "metadata": {
  "kernelspec": {
   "display_name": ".NET (C#)",
   "language": "C#",
   "name": ".net-csharp"
  },
  "language_info": {
   "file_extension": ".cs",
   "mimetype": "text/x-csharp",
   "name": "C#",
   "pygments_lexer": "csharp",
   "version": "8.0"
  }
 },
 "nbformat": 4,
 "nbformat_minor": 4
}